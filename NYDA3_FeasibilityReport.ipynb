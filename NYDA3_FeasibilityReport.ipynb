{
 "cells": [
  {
   "cell_type": "code",
   "execution_count": 2,
   "id": "d4ca18f9",
   "metadata": {},
   "outputs": [],
   "source": [
    "import pandas as pd\n",
    "import numpy as np\n",
    "import torch\n",
    "import random\n",
    "data = pd.read_csv('DATA3_filter.csv')"
   ]
  },
  {
   "cell_type": "code",
   "execution_count": 3,
   "id": "8b741126",
   "metadata": {},
   "outputs": [],
   "source": [
    "target_atem = data[\"3U78TE02A\"] #A排烟温度\n",
    "target_btem = data[\"3U78TE02B\"] #B排烟温度\n",
    "target_co = data[\"co_filter\"] #CO浓度\n",
    "target_nox = data[\"nox_filter\"] #NOx浓度\n",
    "load = data[\"MW\"] #机组负荷"
   ]
  },
  {
   "cell_type": "code",
   "execution_count": null,
   "id": "5f915b41",
   "metadata": {},
   "outputs": [],
   "source": []
  }
 ],
 "metadata": {
  "kernelspec": {
   "display_name": "myenv",
   "language": "python",
   "name": "myenv"
  },
  "language_info": {
   "codemirror_mode": {
    "name": "ipython",
    "version": 3
   },
   "file_extension": ".py",
   "mimetype": "text/x-python",
   "name": "python",
   "nbconvert_exporter": "python",
   "pygments_lexer": "ipython3",
   "version": "3.8.19"
  }
 },
 "nbformat": 4,
 "nbformat_minor": 5
}
