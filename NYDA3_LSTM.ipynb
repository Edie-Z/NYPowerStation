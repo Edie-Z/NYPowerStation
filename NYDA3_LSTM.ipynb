{
 "cells": [
  {
   "cell_type": "code",
   "execution_count": 1,
   "id": "65b1fc8a",
   "metadata": {},
   "outputs": [],
   "source": [
    "import pandas as pd\n",
    "import numpy as np\n",
    "import torch\n",
    "import random\n",
    "data = pd.read_csv('DATA3_filter.csv')"
   ]
  },
  {
   "cell_type": "code",
   "execution_count": 2,
   "id": "ef2d4083",
   "metadata": {},
   "outputs": [],
   "source": [
    "ctrl_o2 = data[\"3UD5NAO032\"] #省煤器出口氧量\n",
    "ctrl_coal = data[[\"3U28M04AFT\", \"3U28M04BFT\", \"3U28M04CFT\", \"3U28M04DFT\"]] #给煤机给煤量\n",
    "ctrl_sec = data[[\"3U71MCV07AK\", \"3U71MCV07BK\", \"3U71MCV07CK\", \"3U71MCV07DK\"]] #二次风门开度\n",
    "ctrl_sofa = data[[\"3USOFABJ1ZT\"]] #燃尽风门开度"
   ]
  },
  {
   "cell_type": "code",
   "execution_count": 11,
   "id": "be45425a",
   "metadata": {},
   "outputs": [],
   "source": [
    "state_all = data[[\"MW\", \"3UCCSPT\", \"3U03TEA\", \"3UZQFT\", \"3U05TE01\", \"3U06PT04\", \"3U80FT04\", \"3U80FT05\", \"3UTAFF\", \"3U72PT04\", \"3UBCFHHTL\"]]  # 状态变量\n",
    "target_atem = data[\"3U78TE02A\"]  # A排烟温度\n",
    "target_btem = data[\"3U78TE02B\"]  # B排烟温度\n",
    "target_co = data[\"co_filter\"]  # CO浓度\n",
    "target_nox = data[\"nox_filter\"]  # NOx浓度\n",
    "target_eff = data[\"eff\"]  # 锅炉热效率\n",
    "load = data[\"MW\"]  # 机组负荷"
   ]
  },
  {
   "cell_type": "markdown",
   "id": "a11ac1f9",
   "metadata": {},
   "source": [
    "# 变量的描述信息"
   ]
  },
  {
   "cell_type": "code",
   "execution_count": 12,
   "id": "bc7ca686",
   "metadata": {},
   "outputs": [
    {
     "name": "stdout",
     "output_type": "stream",
     "text": [
      "分位数0.1: 497.069328\n",
      "分位数99.9: 3419.5708480000244\n",
      "增量分位数0.1: -50.0\n",
      "增量分位数99.9: 50.0\n"
     ]
    }
   ],
   "source": [
    "def print_distribution(data, points=[0.1,1,2,3,97,98,99,99.9]):\n",
    "    for point in points:\n",
    "        print(f\"分位数{point}:\",np.percentile(data, point))\n",
    "    data_inc = (np.roll(data, -1) - data)[:-1]\n",
    "    for point in points:\n",
    "        print(f\"增量分位数{point}:\",np.percentile(data_inc, point))\n",
    "\n",
    "print_distribution(np.array(target_nox), points=[0.1,99.9])"
   ]
  },
  {
   "cell_type": "code",
   "execution_count": 17,
   "id": "f702ead4",
   "metadata": {},
   "outputs": [],
   "source": [
    "ctrl_o2_limit = [[1.8], [4.8]]\n",
    "ctrl_coal_limit = [[0, 0, 0, 0, 0], [40, 40, 40, 40, 40]]\n",
    "ctrl_sec_limit = [[0, 0, 0, 0, 0, 0, 0, 0, 0], [75, 75, 75, 75, 75, 75, 75, 75, 75]]\n",
    "ctrl_sofa_limit = [[0, 0, 0, 0], [100, 100, 100, 100]]\n",
    "state_all_limit = [[110, 535, 1.1, 0, 0, 0, 0, 0, 0], [330, 550, 3.4, 2, 55, 55, 55, 55, 55]]\n",
    "target_atem_limit = [[117], [157]]\n",
    "target_co_limit = [[20], [1500]]\n",
    "target_nox_limit = [[130], [280]]\n",
    "target_btem_limit = [[517], [547]]"
   ]
  },
  {
   "cell_type": "code",
   "execution_count": 20,
   "id": "4fd3e2ca",
   "metadata": {},
   "outputs": [],
   "source": [
    "# 确保 reshape 正确\n",
    "def shape2d(data):\n",
    "    data = np.array(data)\n",
    "    if len(data.shape) == 1:\n",
    "        return data.reshape(-1, 1)\n",
    "    return data"
   ]
  },
  {
   "cell_type": "code",
   "execution_count": 21,
   "id": "f206cd1d",
   "metadata": {},
   "outputs": [],
   "source": [
    "# 归一化函数\n",
    "def minMaxNormalize(data, min_value, max_value):\n",
    "    return (data - min_value) / (max_value - min_value)"
   ]
  },
  {
   "cell_type": "code",
   "execution_count": 22,
   "id": "a97a0a4a",
   "metadata": {},
   "outputs": [],
   "source": [
    "# 准备数据\n",
    "data_ctrl = np.concatenate([shape2d(ctrl_o2), shape2d(ctrl_coal), shape2d(ctrl_sec), shape2d(ctrl_sofa)], axis=1)\n",
    "data_state = shape2d(state_all)\n",
    "data_target = np.concatenate([shape2d(target_atem), shape2d(target_btem), shape2d(target_co), shape2d(target_nox)], axis=1)"
   ]
  },
  {
   "cell_type": "code",
   "execution_count": 23,
   "id": "92722b50",
   "metadata": {},
   "outputs": [],
   "source": [
    "data_ctrl_limit = np.concatenate([shape2d(ctrl_o2_limit), shape2d(ctrl_coal_limit), shape2d(ctrl_sec_limit), shape2d(ctrl_sofa_limit)], axis=1)\n",
    "data_state_limit = shape2d(state_all_limit)\n",
    "data_target_limit = np.concatenate([shape2d(target_atem_limit), shape2d(target_btem_limit), shape2d(target_co_limit), shape2d(target_nox_limit)], axis=1)"
   ]
  },
  {
   "cell_type": "code",
   "execution_count": 24,
   "id": "00f5590a",
   "metadata": {},
   "outputs": [
    {
     "name": "stdout",
     "output_type": "stream",
     "text": [
      "data_ctrl 的形状: (133921, 10)\n",
      "data_ctrl_limit 的形状: (2, 19)\n",
      "data_state 的形状: (133921, 11)\n",
      "data_state_limit 的形状: (2, 9)\n",
      "data_target 的形状: (133921, 4)\n",
      "data_target_limit 的形状: (2, 4)\n"
     ]
    }
   ],
   "source": [
    "# 打印形状以进行调试\n",
    "print(\"data_ctrl 的形状:\", data_ctrl.shape)\n",
    "print(\"data_ctrl_limit 的形状:\", data_ctrl_limit.shape)\n",
    "print(\"data_state 的形状:\", data_state.shape)\n",
    "print(\"data_state_limit 的形状:\", data_state_limit.shape)\n",
    "print(\"data_target 的形状:\", data_target.shape)\n",
    "print(\"data_target_limit 的形状:\", data_target_limit.shape)"
   ]
  },
  {
   "cell_type": "code",
   "execution_count": 25,
   "id": "446527b3",
   "metadata": {},
   "outputs": [
    {
     "ename": "AssertionError",
     "evalue": "控制数据和限制特征数量不匹配",
     "output_type": "error",
     "traceback": [
      "\u001b[1;31m---------------------------------------------------------------------------\u001b[0m",
      "\u001b[1;31mAssertionError\u001b[0m                            Traceback (most recent call last)",
      "Cell \u001b[1;32mIn[25], line 2\u001b[0m\n\u001b[0;32m      1\u001b[0m \u001b[38;5;66;03m# 检查形状是否匹配\u001b[39;00m\n\u001b[1;32m----> 2\u001b[0m \u001b[38;5;28;01massert\u001b[39;00m data_ctrl\u001b[38;5;241m.\u001b[39mshape[\u001b[38;5;241m1\u001b[39m] \u001b[38;5;241m==\u001b[39m data_ctrl_limit\u001b[38;5;241m.\u001b[39mshape[\u001b[38;5;241m1\u001b[39m], \u001b[38;5;124m\"\u001b[39m\u001b[38;5;124m控制数据和限制特征数量不匹配\u001b[39m\u001b[38;5;124m\"\u001b[39m\n\u001b[0;32m      3\u001b[0m \u001b[38;5;28;01massert\u001b[39;00m data_state\u001b[38;5;241m.\u001b[39mshape[\u001b[38;5;241m1\u001b[39m] \u001b[38;5;241m==\u001b[39m data_state_limit\u001b[38;5;241m.\u001b[39mshape[\u001b[38;5;241m1\u001b[39m], \u001b[38;5;124m\"\u001b[39m\u001b[38;5;124m状态数据和限制特征数量不匹配\u001b[39m\u001b[38;5;124m\"\u001b[39m\n\u001b[0;32m      4\u001b[0m \u001b[38;5;28;01massert\u001b[39;00m data_target\u001b[38;5;241m.\u001b[39mshape[\u001b[38;5;241m1\u001b[39m] \u001b[38;5;241m==\u001b[39m data_target_limit\u001b[38;5;241m.\u001b[39mshape[\u001b[38;5;241m1\u001b[39m], \u001b[38;5;124m\"\u001b[39m\u001b[38;5;124m目标数据和限制特征数量不匹配\u001b[39m\u001b[38;5;124m\"\u001b[39m\n",
      "\u001b[1;31mAssertionError\u001b[0m: 控制数据和限制特征数量不匹配"
     ]
    }
   ],
   "source": [
    "# 检查形状是否匹配\n",
    "assert data_ctrl.shape[1] == data_ctrl_limit.shape[1], \"控制数据和限制特征数量不匹配\"\n",
    "assert data_state.shape[1] == data_state_limit.shape[1], \"状态数据和限制特征数量不匹配\"\n",
    "assert data_target.shape[1] == data_target_limit.shape[1], \"目标数据和限制特征数量不匹配\""
   ]
  },
  {
   "cell_type": "code",
   "execution_count": null,
   "id": "62c202c7",
   "metadata": {},
   "outputs": [],
   "source": []
  }
 ],
 "metadata": {
  "kernelspec": {
   "display_name": "myenv",
   "language": "python",
   "name": "myenv"
  },
  "language_info": {
   "codemirror_mode": {
    "name": "ipython",
    "version": 3
   },
   "file_extension": ".py",
   "mimetype": "text/x-python",
   "name": "python",
   "nbconvert_exporter": "python",
   "pygments_lexer": "ipython3",
   "version": "3.8.19"
  }
 },
 "nbformat": 4,
 "nbformat_minor": 5
}
