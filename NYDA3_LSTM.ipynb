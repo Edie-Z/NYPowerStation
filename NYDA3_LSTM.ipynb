{
 "cells": [
  {
   "cell_type": "code",
   "execution_count": 1,
   "id": "65b1fc8a",
   "metadata": {},
   "outputs": [],
   "source": [
    "import pandas as pd\n",
    "import numpy as np\n",
    "import torch\n",
    "import random\n",
    "data = pd.read_csv('DATA3_filter.csv')"
   ]
  },
  {
   "cell_type": "code",
   "execution_count": 2,
   "id": "ef2d4083",
   "metadata": {},
   "outputs": [],
   "source": [
    "ctrl_o2 = data[\"3UD5NAO032\"] #省煤器出口氧量\n",
    "ctrl_coal = data[[\"3U28M04AFT\", \"3U28M04BFT\", \"3U28M04CFT\", \"3U28M04DFT\"]] #给煤机给煤量\n",
    "ctrl_sec = data[[\"3U71MCV07AK\", \"3U71MCV07BK\", \"3U71MCV07CK\", \"3U71MCV07DK\"]] #二次风门开度\n",
    "ctrl_sofa = data[[\"3USOFABJ1ZT\"]] #燃尽风门开度"
   ]
  },
  {
   "cell_type": "code",
   "execution_count": 3,
   "id": "be45425a",
   "metadata": {},
   "outputs": [],
   "source": [
    "state_all = data[[\"MW\", \"3UCCSPT\", \"3U03TEA\", \"3UZQFT\", \"3U05TE01\", \"3U06PT04\", \"3U80FT04\", \"3U80FT05\", \"3UTAFF\", \"3U72PT04\", \"3UBCFHHTL\"]]  # 状态变量\n",
    "target_etem = (data[\"3U78TE02A\"] + data[\"3U78TE02B\"]) / 2  # 排烟温度\n",
    "target_co = data[\"co_filter\"]  # CO浓度\n",
    "target_nox = data[\"nox_filter\"]  # NOx浓度\n",
    "target_eff = data[\"eff\"]  # 锅炉热效率\n",
    "load = data[\"MW\"]  # 机组负荷"
   ]
  },
  {
   "cell_type": "markdown",
   "id": "a11ac1f9",
   "metadata": {},
   "source": [
    "# 变量的描述信息"
   ]
  },
  {
   "cell_type": "code",
   "execution_count": 4,
   "id": "bc7ca686",
   "metadata": {},
   "outputs": [
    {
     "name": "stdout",
     "output_type": "stream",
     "text": [
      "分位数0.1: 485.5502976\n",
      "分位数99.9: 3398.7802280000033\n",
      "增量分位数0.1: -10.0\n",
      "增量分位数99.9: 10.0\n"
     ]
    }
   ],
   "source": [
    "def print_distribution(data, points=[0.1,1,2,3,97,98,99,99.9]):\n",
    "    for point in points:\n",
    "        print(f\"分位数{point}:\",np.percentile(data, point))\n",
    "    data_inc = (np.roll(data, -1) - data)[:-1]\n",
    "    for point in points:\n",
    "        print(f\"增量分位数{point}:\",np.percentile(data_inc, point))\n",
    "\n",
    "print_distribution(np.array(target_nox), points=[0.1,99.9])"
   ]
  },
  {
   "cell_type": "code",
   "execution_count": 5,
   "id": "eeaf0962",
   "metadata": {},
   "outputs": [
    {
     "data": {
      "text/plain": [
       "MW           272.190\n",
       "3UCCSPT       16.846\n",
       "3U03TEA      549.848\n",
       "3UZQFT       821.677\n",
       "3U05TE01     537.183\n",
       "3U06PT04       3.167\n",
       "3U80FT04      21.746\n",
       "3U80FT05       3.362\n",
       "3UTAFF       246.092\n",
       "3U72PT04       3.807\n",
       "3UBCFHHTL     14.998\n",
       "dtype: float64"
      ]
     },
     "execution_count": 5,
     "metadata": {},
     "output_type": "execute_result"
    }
   ],
   "source": [
    "state_all.max()"
   ]
  },
  {
   "cell_type": "code",
   "execution_count": 6,
   "id": "fdbf3ad2",
   "metadata": {},
   "outputs": [
    {
     "data": {
      "text/plain": [
       "MW           125.911\n",
       "3UCCSPT       12.744\n",
       "3U03TEA      505.195\n",
       "3UZQFT       398.288\n",
       "3U05TE01     504.741\n",
       "3U06PT04       1.560\n",
       "3U80FT04       1.263\n",
       "3U80FT05       0.000\n",
       "3UTAFF       111.789\n",
       "3U72PT04       0.000\n",
       "3UBCFHHTL      0.026\n",
       "dtype: float64"
      ]
     },
     "execution_count": 6,
     "metadata": {},
     "output_type": "execute_result"
    }
   ],
   "source": [
    "state_all.min()"
   ]
  },
  {
   "cell_type": "code",
   "execution_count": 7,
   "id": "f702ead4",
   "metadata": {},
   "outputs": [],
   "source": [
    "ctrl_o2_limit = [[4], [8]]\n",
    "ctrl_coal_limit = [[0, 0, 0, 0], [80, 80, 80, 80]]\n",
    "ctrl_sec_limit = [[0, 0, 0, 0], [100, 100, 100, 100]]\n",
    "ctrl_sofa_limit = [[0], [100]]\n",
    "state_all_limit = [[125, 12, 505, 398, 504, 0, 0, 0, 110, 0, 0], [274, 18, 550, 822, 538, 4, 22, 4, 248, 4, 15]]\n",
    "target_etem_limit = [[109], [139]]\n",
    "target_co_limit = [[18], [514]]\n",
    "target_nox_limit = [[485], [3400]]"
   ]
  },
  {
   "cell_type": "code",
   "execution_count": 8,
   "id": "4fd3e2ca",
   "metadata": {},
   "outputs": [],
   "source": [
    "# 确保 reshape 正确\n",
    "def shape2d(data):\n",
    "    data = np.array(data)\n",
    "    if len(data.shape) == 1:\n",
    "        return data.reshape(-1, 1)\n",
    "    return data"
   ]
  },
  {
   "cell_type": "code",
   "execution_count": 9,
   "id": "f206cd1d",
   "metadata": {},
   "outputs": [],
   "source": [
    "# 归一化函数\n",
    "def minMaxNormalize(data, min_value, max_value):\n",
    "    return (data - min_value) / (max_value - min_value)"
   ]
  },
  {
   "cell_type": "code",
   "execution_count": 10,
   "id": "a97a0a4a",
   "metadata": {},
   "outputs": [],
   "source": [
    "# 准备数据\n",
    "data_ctrl = np.concatenate([shape2d(ctrl_o2), shape2d(ctrl_coal), shape2d(ctrl_sec), shape2d(ctrl_sofa)], axis=1)\n",
    "data_state = shape2d(state_all)\n",
    "data_target = np.concatenate([shape2d(target_etem), shape2d(target_co), shape2d(target_nox)], axis=1)"
   ]
  },
  {
   "cell_type": "code",
   "execution_count": 11,
   "id": "92722b50",
   "metadata": {},
   "outputs": [],
   "source": [
    "data_ctrl_limit = np.concatenate([shape2d(ctrl_o2_limit), shape2d(ctrl_coal_limit), shape2d(ctrl_sec_limit), shape2d(ctrl_sofa_limit)], axis=1)\n",
    "data_state_limit = shape2d(state_all_limit)\n",
    "data_target_limit = np.concatenate([shape2d(target_etem_limit), shape2d(target_co_limit), shape2d(target_nox_limit)], axis=1)"
   ]
  },
  {
   "cell_type": "code",
   "execution_count": 12,
   "id": "00f5590a",
   "metadata": {},
   "outputs": [
    {
     "name": "stdout",
     "output_type": "stream",
     "text": [
      "data_ctrl 的形状: (54219, 10)\n",
      "data_ctrl_limit 的形状: (2, 10)\n",
      "data_state 的形状: (54219, 11)\n",
      "data_state_limit 的形状: (2, 11)\n",
      "data_target 的形状: (54219, 3)\n",
      "data_target_limit 的形状: (2, 3)\n"
     ]
    }
   ],
   "source": [
    "# 打印形状以进行调试\n",
    "print(\"data_ctrl 的形状:\", data_ctrl.shape)\n",
    "print(\"data_ctrl_limit 的形状:\", data_ctrl_limit.shape)\n",
    "print(\"data_state 的形状:\", data_state.shape)\n",
    "print(\"data_state_limit 的形状:\", data_state_limit.shape)\n",
    "print(\"data_target 的形状:\", data_target.shape)\n",
    "print(\"data_target_limit 的形状:\", data_target_limit.shape)"
   ]
  },
  {
   "cell_type": "code",
   "execution_count": 13,
   "id": "446527b3",
   "metadata": {},
   "outputs": [],
   "source": [
    "# 检查形状是否匹配\n",
    "assert data_ctrl.shape[1] == data_ctrl_limit.shape[1], \"控制数据和限制特征数量不匹配\"\n",
    "assert data_state.shape[1] == data_state_limit.shape[1], \"状态数据和限制特征数量不匹配\"\n",
    "assert data_target.shape[1] == data_target_limit.shape[1], \"目标数据和限制特征数量不匹配\""
   ]
  },
  {
   "cell_type": "code",
   "execution_count": 14,
   "id": "62c202c7",
   "metadata": {},
   "outputs": [],
   "source": [
    "# 归一化\n",
    "data_ctrl = minMaxNormalize(data_ctrl, data_ctrl_limit[0, :], data_ctrl_limit[1, :])\n",
    "data_state = minMaxNormalize(data_state, data_state_limit[0, :], data_state_limit[1, :])\n",
    "data_target = minMaxNormalize(data_target, data_target_limit[0, :], data_target_limit[1, :])"
   ]
  },
  {
   "cell_type": "markdown",
   "id": "7e695fe9",
   "metadata": {},
   "source": [
    "# 建立多个预测模型"
   ]
  },
  {
   "cell_type": "markdown",
   "id": "74f36a08",
   "metadata": {},
   "source": [
    "## LSTM"
   ]
  },
  {
   "cell_type": "markdown",
   "id": "d402ba5d",
   "metadata": {},
   "source": [
    "### 1. 数据预处理"
   ]
  },
  {
   "cell_type": "code",
   "execution_count": 15,
   "id": "1490e6b4",
   "metadata": {},
   "outputs": [],
   "source": [
    "# 定义数据预处理函数，将时间序列切分成适合LSTM的数据块\n",
    "def create_sequences(data, n_steps):\n",
    "    sequences = []\n",
    "    targets = []\n",
    "    for i in range(len(data) - n_steps):\n",
    "        # 取 `n_steps` 个时间步的输入作为序列\n",
    "        sequences.append(data[i:i + n_steps, :-1])\n",
    "        # 将第 n_steps 时间步之后的数据作为目标\n",
    "        targets.append(data[i + n_steps, -1:])\n",
    "    return np.array(sequences), np.array(targets)"
   ]
  },
  {
   "cell_type": "code",
   "execution_count": 16,
   "id": "5987a8af",
   "metadata": {},
   "outputs": [],
   "source": [
    "# 设置时间步长（例如5）\n",
    "n_steps = 5"
   ]
  },
  {
   "cell_type": "code",
   "execution_count": 17,
   "id": "a8ccd3f9",
   "metadata": {},
   "outputs": [],
   "source": [
    "# 将输入数据和目标数据结合\n",
    "data_combined = np.concatenate([data_ctrl, data_state, data_target], axis=1)"
   ]
  },
  {
   "cell_type": "code",
   "execution_count": 18,
   "id": "680f5e08",
   "metadata": {},
   "outputs": [],
   "source": [
    "# 生成LSTM的输入序列和目标\n",
    "X, y = create_sequences(data_combined, n_steps)"
   ]
  },
  {
   "cell_type": "code",
   "execution_count": 19,
   "id": "c60f4d7d",
   "metadata": {},
   "outputs": [],
   "source": [
    "# 转换为tensor\n",
    "X = torch.tensor(X, dtype=torch.float32)\n",
    "y = torch.tensor(y, dtype=torch.float32)"
   ]
  },
  {
   "cell_type": "markdown",
   "id": "c4384cf4",
   "metadata": {},
   "source": [
    "### 2. 创建 LSTM 数据集和数据加载器"
   ]
  },
  {
   "cell_type": "code",
   "execution_count": 20,
   "id": "d4c34e4b",
   "metadata": {},
   "outputs": [],
   "source": [
    "from torch.utils.data import Dataset, DataLoader"
   ]
  },
  {
   "cell_type": "code",
   "execution_count": 21,
   "id": "031d4f97",
   "metadata": {},
   "outputs": [],
   "source": [
    "class TimeSeriesDataset(Dataset):\n",
    "    def __init__(self, X, y):\n",
    "        self.X = X\n",
    "        self.y = y\n",
    "\n",
    "    def __len__(self):\n",
    "        return len(self.X)\n",
    "\n",
    "    def __getitem__(self, idx):\n",
    "        return self.X[idx], self.y[idx]"
   ]
  },
  {
   "cell_type": "code",
   "execution_count": 22,
   "id": "47e88982",
   "metadata": {},
   "outputs": [],
   "source": [
    "# 创建数据集和数据加载器\n",
    "dataset = TimeSeriesDataset(X, y)\n",
    "dataloader = DataLoader(dataset, batch_size=64, shuffle=True)"
   ]
  },
  {
   "cell_type": "markdown",
   "id": "16ac72ed",
   "metadata": {},
   "source": [
    "### 3. 定义 LSTM 模型"
   ]
  },
  {
   "cell_type": "code",
   "execution_count": 23,
   "id": "8dfad04f",
   "metadata": {},
   "outputs": [],
   "source": [
    "import torch.nn as nn"
   ]
  },
  {
   "cell_type": "code",
   "execution_count": 24,
   "id": "2432d823",
   "metadata": {},
   "outputs": [],
   "source": [
    "class LSTMModel(nn.Module):\n",
    "    def __init__(self, input_size, hidden_size, output_size, num_layers=2):\n",
    "        super(LSTMModel, self).__init__()\n",
    "        self.hidden_size = hidden_size\n",
    "        self.num_layers = num_layers\n",
    "\n",
    "        # 定义LSTM层\n",
    "        self.lstm = nn.LSTM(input_size, hidden_size, num_layers, batch_first=True)\n",
    "        # 定义全连接层，用于输出\n",
    "        self.fc = nn.Linear(hidden_size, output_size)\n",
    "\n",
    "    def forward(self, x):\n",
    "        h0 = torch.zeros(self.num_layers, x.size(0), self.hidden_size).to(x.device)\n",
    "        c0 = torch.zeros(self.num_layers, x.size(0), self.hidden_size).to(x.device)\n",
    "        \n",
    "        # LSTM输出\n",
    "        out, _ = self.lstm(x, (h0, c0))\n",
    "        \n",
    "        # 取最后一个时间步的输出\n",
    "        out = self.fc(out[:, -1, :])\n",
    "        return out"
   ]
  },
  {
   "cell_type": "code",
   "execution_count": 25,
   "id": "7a9cc79e",
   "metadata": {},
   "outputs": [],
   "source": [
    "# 设置模型参数\n",
    "input_size = X.shape[2]  # 特征数量\n",
    "hidden_size = 64\n",
    "output_size = y.shape[1]  # 输出大小\n",
    "num_layers = 2"
   ]
  },
  {
   "cell_type": "code",
   "execution_count": 26,
   "id": "099aae99",
   "metadata": {},
   "outputs": [],
   "source": [
    "model = LSTMModel(input_size, hidden_size, output_size, num_layers)"
   ]
  },
  {
   "cell_type": "markdown",
   "id": "737ad8a4",
   "metadata": {},
   "source": [
    "### 4. 设置损失函数和优化器"
   ]
  },
  {
   "cell_type": "code",
   "execution_count": 27,
   "id": "2c462fb9",
   "metadata": {},
   "outputs": [],
   "source": [
    "import torch.optim as optim\n",
    "import mpmath\n",
    "import sympy"
   ]
  },
  {
   "cell_type": "code",
   "execution_count": 28,
   "id": "89fbb400",
   "metadata": {},
   "outputs": [],
   "source": [
    "criterion = nn.MSELoss()\n",
    "optimizer = optim.Adam(model.parameters(), lr=0.001)"
   ]
  },
  {
   "cell_type": "markdown",
   "id": "58df1ef4",
   "metadata": {},
   "source": [
    "### 5. 训练模型"
   ]
  },
  {
   "cell_type": "code",
   "execution_count": 29,
   "id": "4d506c0d",
   "metadata": {},
   "outputs": [
    {
     "data": {
      "text/plain": [
       "LSTMModel(\n",
       "  (lstm): LSTM(23, 64, num_layers=2, batch_first=True)\n",
       "  (fc): Linear(in_features=64, out_features=1, bias=True)\n",
       ")"
      ]
     },
     "execution_count": 29,
     "metadata": {},
     "output_type": "execute_result"
    }
   ],
   "source": [
    "num_epochs = 50\n",
    "model.train()"
   ]
  },
  {
   "cell_type": "code",
   "execution_count": 30,
   "id": "1a5e0d6b",
   "metadata": {},
   "outputs": [
    {
     "name": "stdout",
     "output_type": "stream",
     "text": [
      "Epoch [10/50], Loss: 0.0002\n",
      "Epoch [20/50], Loss: 0.0002\n",
      "Epoch [30/50], Loss: 0.0001\n",
      "Epoch [40/50], Loss: 0.0005\n",
      "Epoch [50/50], Loss: 0.0001\n"
     ]
    }
   ],
   "source": [
    "for epoch in range(num_epochs):\n",
    "    for i, (seqs, targets) in enumerate(dataloader):\n",
    "        # 将数据传入设备\n",
    "        seqs, targets = seqs.to('cpu'), targets.to('cpu')\n",
    "        \n",
    "        # 前向传播\n",
    "        outputs = model(seqs)\n",
    "        loss = criterion(outputs, targets)\n",
    "\n",
    "        # 反向传播和优化\n",
    "        optimizer.zero_grad()\n",
    "        loss.backward()\n",
    "        optimizer.step()\n",
    "\n",
    "    if (epoch+1) % 10 == 0:\n",
    "        print(f'Epoch [{epoch+1}/{num_epochs}], Loss: {loss.item():.4f}')"
   ]
  },
  {
   "cell_type": "markdown",
   "id": "5240675f",
   "metadata": {},
   "source": [
    "### 6. 进行预测"
   ]
  },
  {
   "cell_type": "code",
   "execution_count": 31,
   "id": "58d02d91",
   "metadata": {},
   "outputs": [
    {
     "name": "stdout",
     "output_type": "stream",
     "text": [
      "[[0.04567518]\n",
      " [0.04530362]\n",
      " [0.04554107]\n",
      " ...\n",
      " [0.06756668]\n",
      " [0.06985252]\n",
      " [0.07025901]]\n"
     ]
    }
   ],
   "source": [
    "model.eval()\n",
    "with torch.no_grad():\n",
    "    predictions = model(X.to('cpu')).cpu().numpy()\n",
    "\n",
    "print(predictions)"
   ]
  },
  {
   "cell_type": "markdown",
   "id": "2ffef10d",
   "metadata": {},
   "source": [
    "### 7. 可视化结果"
   ]
  },
  {
   "cell_type": "code",
   "execution_count": 32,
   "id": "8803370b",
   "metadata": {},
   "outputs": [],
   "source": [
    "import matplotlib.pyplot as plt"
   ]
  },
  {
   "cell_type": "code",
   "execution_count": 33,
   "id": "08c357f9",
   "metadata": {},
   "outputs": [
    {
     "data": {
      "image/png": "[encoded data removed]",
      "text/plain": [
       "<Figure size 640x480 with 1 Axes>"
      ]
     },
     "metadata": {},
     "output_type": "display_data"
    }
   ],
   "source": [
    "# 绘制真实值和预测值\n",
    "plt.plot(y.cpu().numpy(), label=\"True Values\")\n",
    "plt.plot(predictions, label=\"Predicted Values\")\n",
    "plt.legend()\n",
    "plt.show()"
   ]
  }
 ],
 "metadata": {
  "kernelspec": {
   "display_name": "myenv",
   "language": "python",
   "name": "myenv"
  },
  "language_info": {
   "codemirror_mode": {
    "name": "ipython",
    "version": 3
   },
   "file_extension": ".py",
   "mimetype": "text/x-python",
   "name": "python",
   "nbconvert_exporter": "python",
   "pygments_lexer": "ipython3",
   "version": "3.8.19"
  }
 },
 "nbformat": 4,
 "nbformat_minor": 5
}
